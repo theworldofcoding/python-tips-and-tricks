{
  "nbformat": 4,
  "nbformat_minor": 0,
  "metadata": {
    "colab": {
      "name": "Python Tips snd Tricks.ipynb",
      "provenance": [],
      "collapsed_sections": [],
      "machine_shape": "hm",
      "authorship_tag": "ABX9TyPQkOFcR4Tz9xbf19fbASWX"
    },
    "kernelspec": {
      "name": "python3",
      "display_name": "Python 3"
    }
  },
  "cells": [
    {
      "cell_type": "markdown",
      "metadata": {
        "id": "7nDe30JUAJHX",
        "colab_type": "text"
      },
      "source": [
        "# First read it, \n",
        "# then try to figure out it, \n",
        "# and finally do it.\n",
        "\n",
        "\n",
        "---\n",
        "\n",
        "\n",
        "\n"
      ]
    },
    {
      "cell_type": "markdown",
      "metadata": {
        "id": "H9n4eQ07_i7J",
        "colab_type": "text"
      },
      "source": [
        "This work contains a good amount of Python tricks and tips which helps you to write better code."
      ]
    },
    {
      "cell_type": "markdown",
      "metadata": {
        "id": "Su_SeH44syuD",
        "colab_type": "text"
      },
      "source": [
        "# python and system version\n",
        "\n",
        "\n",
        "\n",
        "\n",
        "\n",
        "\n",
        "\n",
        "\n",
        "\n",
        "\n",
        "\n",
        "\n",
        "\n",
        "\n"
      ]
    },
    {
      "cell_type": "code",
      "metadata": {
        "id": "Cd1OH340lTvR",
        "colab_type": "code",
        "outputId": "11e53b22-33da-4639-adbc-29f8caee5c2f",
        "colab": {
          "base_uri": "https://localhost:8080/",
          "height": 85
        }
      },
      "source": [
        "# Before you start check your python version. All the code run well above 3.6+ version.\n",
        "import sys\n",
        "!python --version\n",
        "print(sys.version)\n",
        "print(sys.version_info)"
      ],
      "execution_count": 0,
      "outputs": [
        {
          "output_type": "stream",
          "text": [
            "Python 3.6.9\n",
            "3.6.9 (default, Nov  7 2019, 10:44:02) \n",
            "[GCC 8.3.0]\n",
            "sys.version_info(major=3, minor=6, micro=9, releaselevel='final', serial=0)\n"
          ],
          "name": "stdout"
        }
      ]
    },
    {
      "cell_type": "markdown",
      "metadata": {
        "id": "AiB3TvXUPbY8",
        "colab_type": "text"
      },
      "source": [
        "# String Manipulation"
      ]
    },
    {
      "cell_type": "markdown",
      "metadata": {
        "id": "1r5PosAcfLLn",
        "colab_type": "text"
      },
      "source": [
        "# Templating strings"
      ]
    },
    {
      "cell_type": "code",
      "metadata": {
        "id": "VJnTHkDOfGGf",
        "colab_type": "code",
        "outputId": "6bb2b0c5-dd9c-4caf-aa25-b1ad7c911837",
        "colab": {
          "base_uri": "https://localhost:8080/",
          "height": 136
        }
      },
      "source": [
        "print(\"I love %s with %s\" % (\"programming\", \"Python\")) # old style\n",
        "\n",
        "print(\"{}, {} and {}\".format('python','javascript','c++')) #format with defaul order\n",
        "print(\"{2}, {0} and {1}\".format('python','javascript','c++')) # positional argument\n",
        "print(\"{x}, {y} and {z}\".format(x='python', y='javascript', z='c++')) # keyword argument\n",
        "print(\"|{:<10}|{:^10}|{:>10}|\".format('Apple','Melon','Apricot')) #alignment\n",
        "\n",
        "a=3.0; b=5.0; name=\"Python\" \n",
        "print(f'I have been developing {name} programs for {sum([a,b])} years.') # New Style\n",
        "print(f'float format: {a*b:.2f} | {a*b:.5f} aligment:{a*b:>10}') # adjustment"
      ],
      "execution_count": 0,
      "outputs": [
        {
          "output_type": "stream",
          "text": [
            "I love programming with Python\n",
            "python, javascript and c++\n",
            "c++, python and javascript\n",
            "python, javascript and c++\n",
            "|Apple     |  Melon   |   Apricot|\n",
            "I have been developing Python programs for 8.0 years.\n",
            "float format: 15.00 | 15.00000 aligment:      15.0\n"
          ],
          "name": "stdout"
        }
      ]
    },
    {
      "cell_type": "markdown",
      "metadata": {
        "id": "a7IekfMNVn34",
        "colab_type": "text"
      },
      "source": [
        "### Concatenating"
      ]
    },
    {
      "cell_type": "code",
      "metadata": {
        "id": "vcoLh3IG5U2a",
        "colab_type": "code",
        "outputId": "48c22d37-27bc-4684-dd87-9d2e11a75a9c",
        "colab": {
          "base_uri": "https://localhost:8080/",
          "height": 34
        }
      },
      "source": [
        "words = ['This', 'is', 'python', 'trick']\n",
        "sentence = \" \".join(words)\n",
        "print(sentence)"
      ],
      "execution_count": 0,
      "outputs": [
        {
          "output_type": "stream",
          "text": [
            "This is python trick\n"
          ],
          "name": "stdout"
        }
      ]
    },
    {
      "cell_type": "markdown",
      "metadata": {
        "id": "WONmgdBOWNP0",
        "colab_type": "text"
      },
      "source": [
        "### Splitting"
      ]
    },
    {
      "cell_type": "code",
      "metadata": {
        "id": "0OemLpEFTRtO",
        "colab_type": "code",
        "outputId": "a1d29c96-df5f-4b59-9cc5-dd256b9d1ebd",
        "colab": {
          "base_uri": "https://localhost:8080/",
          "height": 34
        }
      },
      "source": [
        "sentence = \"This is python trick\"\n",
        "words = sentence.split()\n",
        "print(words)"
      ],
      "execution_count": 0,
      "outputs": [
        {
          "output_type": "stream",
          "text": [
            "['This', 'is', 'python', 'trick']\n"
          ],
          "name": "stdout"
        }
      ]
    },
    {
      "cell_type": "markdown",
      "metadata": {
        "id": "vhDGlesrWT2k",
        "colab_type": "text"
      },
      "source": [
        "### Reversing"
      ]
    },
    {
      "cell_type": "code",
      "metadata": {
        "id": "TzGJQUypVRX4",
        "colab_type": "code",
        "outputId": "ae4b9c69-b9e5-4881-8e1d-ae441a73ff44",
        "colab": {
          "base_uri": "https://localhost:8080/",
          "height": 51
        }
      },
      "source": [
        "word = \"python\"\n",
        "words = ['This', 'is', 'python', 'trick']\n",
        "print(word[::-1])\n",
        "print(words[::-1])"
      ],
      "execution_count": 0,
      "outputs": [
        {
          "output_type": "stream",
          "text": [
            "nohtyp\n",
            "['trick', 'python', 'is', 'This']\n"
          ],
          "name": "stdout"
        }
      ]
    },
    {
      "cell_type": "markdown",
      "metadata": {
        "id": "z2Y0iBqHdBdS",
        "colab_type": "text"
      },
      "source": [
        "### Printing out multiples of strings"
      ]
    },
    {
      "cell_type": "code",
      "metadata": {
        "id": "Sx99WrzAdEtN",
        "colab_type": "code",
        "outputId": "27a0dd35-89e2-4ae3-f3cd-6429a665693d",
        "colab": {
          "base_uri": "https://localhost:8080/",
          "height": 102
        }
      },
      "source": [
        "print(\"Hello there! \"*2 + \"Cool Python.. \"*2)\n",
        "for i in range(4) : print(f' Counter----> {i}'+\" Python\" *i )"
      ],
      "execution_count": 0,
      "outputs": [
        {
          "output_type": "stream",
          "text": [
            "Hello there! Hello there! Cool Python.. Cool Python.. \n",
            " Counter----> 0\n",
            " Counter----> 1 Python\n",
            " Counter----> 2 Python Python\n",
            " Counter----> 3 Python Python Python\n"
          ],
          "name": "stdout"
        }
      ]
    },
    {
      "cell_type": "markdown",
      "metadata": {
        "id": "Tw0qbR9eUsb3",
        "colab_type": "text"
      },
      "source": [
        "## Removing unnecessary characters on strings"
      ]
    },
    {
      "cell_type": "code",
      "metadata": {
        "id": "Ee--fgNHVHOg",
        "colab_type": "code",
        "outputId": "adf6b4d8-4cd5-4fab-cf99-dc2767959e41",
        "colab": {
          "base_uri": "https://localhost:8080/",
          "height": 51
        }
      },
      "source": [
        "name_with_space = \"    Resul    \"\n",
        "name_with_slash = \"////Resul////\"\n",
        "print(name_with_space.strip())\n",
        "print( name_with_slash.strip('/'))"
      ],
      "execution_count": 0,
      "outputs": [
        {
          "output_type": "stream",
          "text": [
            "Resul\n",
            "Resul\n"
          ],
          "name": "stdout"
        }
      ]
    },
    {
      "cell_type": "markdown",
      "metadata": {
        "id": "23C8PE_T35Pu",
        "colab_type": "text"
      },
      "source": [
        "# Anagram Strings "
      ]
    },
    {
      "cell_type": "code",
      "metadata": {
        "id": "yU4SZZ7d35fc",
        "colab_type": "code",
        "outputId": "f6475349-1740-47ff-df79-99644cd935a0",
        "colab": {
          "base_uri": "https://localhost:8080/",
          "height": 34
        }
      },
      "source": [
        "from collections import Counter\n",
        "\n",
        "str_1 = \"listen\"\n",
        "str_2 = \"silent\"\n",
        "cnt_1, cnt_2 = Counter(str_1), Counter(str_2)\n",
        "\n",
        "if cnt_1 == cnt_2:\n",
        "    print(f'Yeap!, {str_1} and {str_2}  are anagram words.')\n",
        "else:\n",
        "    print('Not anagram')"
      ],
      "execution_count": 0,
      "outputs": [
        {
          "output_type": "stream",
          "text": [
            "Yeap!, listen and silent  are anagram words.\n"
          ],
          "name": "stdout"
        }
      ]
    },
    {
      "cell_type": "markdown",
      "metadata": {
        "id": "fBwVOJ4e1H-b",
        "colab_type": "text"
      },
      "source": [
        "# Palindrome Strings"
      ]
    },
    {
      "cell_type": "code",
      "metadata": {
        "id": "_L7UmVj81KGE",
        "colab_type": "code",
        "outputId": "bf24f338-c272-49c2-8522-764e66ac581c",
        "colab": {
          "base_uri": "https://localhost:8080/",
          "height": 34
        }
      },
      "source": [
        "my_string = \"racecar\"\n",
        "\n",
        "if my_string == my_string[::-1]:\n",
        "  print(\"yes, it is palindrome\")\n",
        "else:\n",
        "  print(\"it is not palindrome\")"
      ],
      "execution_count": 0,
      "outputs": [
        {
          "output_type": "stream",
          "text": [
            "yes, it is palindrome\n"
          ],
          "name": "stdout"
        }
      ]
    },
    {
      "cell_type": "markdown",
      "metadata": {
        "id": "QcZnW_Ox1__o",
        "colab_type": "text"
      },
      "source": [
        "# Frequency of elements in a List - Counter()"
      ]
    },
    {
      "cell_type": "code",
      "metadata": {
        "id": "IrhhC3Sh2DTt",
        "colab_type": "code",
        "outputId": "3d528944-20a1-4365-99c1-672e7acf34ff",
        "colab": {
          "base_uri": "https://localhost:8080/",
          "height": 68
        }
      },
      "source": [
        "from collections import Counter\n",
        "\n",
        "my_list = ['apple','apple','banana','banana','apple','apricot','fig','fig']\n",
        "count = Counter(my_list)\n",
        "\n",
        "print(count)\n",
        "print(count['fig'])\n",
        "print(count.most_common(1))"
      ],
      "execution_count": 0,
      "outputs": [
        {
          "output_type": "stream",
          "text": [
            "Counter({'apple': 3, 'banana': 2, 'fig': 2, 'apricot': 1})\n",
            "2\n",
            "[('apple', 3)]\n"
          ],
          "name": "stdout"
        }
      ]
    },
    {
      "cell_type": "markdown",
      "metadata": {
        "id": "LPXN4d9v9eNy",
        "colab_type": "text"
      },
      "source": [
        "# Using itertools (combinations)"
      ]
    },
    {
      "cell_type": "code",
      "metadata": {
        "id": "t6A9vnUa9inE",
        "colab_type": "code",
        "outputId": "74b9ce96-2963-4ad8-f824-9774b1156b92",
        "colab": {
          "base_uri": "https://localhost:8080/",
          "height": 119
        }
      },
      "source": [
        "import itertools\n",
        "friends = ['Team-A', 'Team-B', 'Team-C', 'Team-D']\n",
        "list(itertools.combinations(friends, r=2))\n",
        "\n",
        "#smilarly you can use itertools.permutations()"
      ],
      "execution_count": 0,
      "outputs": [
        {
          "output_type": "execute_result",
          "data": {
            "text/plain": [
              "[('Team-A', 'Team-B'),\n",
              " ('Team-A', 'Team-C'),\n",
              " ('Team-A', 'Team-D'),\n",
              " ('Team-B', 'Team-C'),\n",
              " ('Team-B', 'Team-D'),\n",
              " ('Team-C', 'Team-D')]"
            ]
          },
          "metadata": {
            "tags": []
          },
          "execution_count": 2
        }
      ]
    },
    {
      "cell_type": "markdown",
      "metadata": {
        "id": "Y3vGBGa6zqYd",
        "colab_type": "text"
      },
      "source": [
        "# Unique elements in a string"
      ]
    },
    {
      "cell_type": "code",
      "metadata": {
        "id": "6_upnjVnstJp",
        "colab_type": "code",
        "outputId": "b4984228-3341-467c-a42a-fdfa9ff4645a",
        "colab": {
          "base_uri": "https://localhost:8080/",
          "height": 34
        }
      },
      "source": [
        "my_string = \"the quick brown fox jumps over the lazy dog\"\n",
        "\n",
        "temp_set = set(my_string)\n",
        "new_string = ''.join(sorted(temp_set))\n",
        "\n",
        "print(new_string)"
      ],
      "execution_count": 0,
      "outputs": [
        {
          "output_type": "stream",
          "text": [
            " abcdefghijklmnopqrstuvwxyz\n"
          ],
          "name": "stdout"
        }
      ]
    },
    {
      "cell_type": "markdown",
      "metadata": {
        "id": "MJIIIqqLYNsQ",
        "colab_type": "text"
      },
      "source": [
        "# Swapping values"
      ]
    },
    {
      "cell_type": "code",
      "metadata": {
        "id": "VSp-B1DEYSRu",
        "colab_type": "code",
        "outputId": "5cac33ba-3df0-4632-ea6e-848baa314a99",
        "colab": {
          "base_uri": "https://localhost:8080/",
          "height": 51
        }
      },
      "source": [
        "x, y = 1, 2\n",
        "print(x, y)\n",
        "\n",
        "x, y = y, x # Swapping only values, x != y\n",
        "print(x, y)"
      ],
      "execution_count": 0,
      "outputs": [
        {
          "output_type": "stream",
          "text": [
            "1 2\n",
            "2 1\n"
          ],
          "name": "stdout"
        }
      ]
    },
    {
      "cell_type": "markdown",
      "metadata": {
        "id": "efqT-ubyZh6-",
        "colab_type": "text"
      },
      "source": [
        "# Returning multiple values from a function"
      ]
    },
    {
      "cell_type": "code",
      "metadata": {
        "id": "jJZ9sOBJZnr6",
        "colab_type": "code",
        "outputId": "cd70f526-e902-4107-8b6c-df78175916c7",
        "colab": {
          "base_uri": "https://localhost:8080/",
          "height": 34
        }
      },
      "source": [
        "def my_func():\n",
        "    Id = 1 ; a = \"Hakan\"; b = \"40\" ; c = \"Teacher\"\n",
        "    return Id, a, b, c\n",
        "\n",
        "Id, name, age, job = my_func()\n",
        "\n",
        "print(f'{Id}th {name} is a {job} and {age} years old.')"
      ],
      "execution_count": 0,
      "outputs": [
        {
          "output_type": "stream",
          "text": [
            "1th Hakan is a Teacher and 40 years old.\n"
          ],
          "name": "stdout"
        }
      ]
    },
    {
      "cell_type": "markdown",
      "metadata": {
        "id": "tg-EJj8pfska",
        "colab_type": "text"
      },
      "source": [
        "# Ternary operator"
      ]
    },
    {
      "cell_type": "code",
      "metadata": {
        "id": "kyIyXU5AftCx",
        "colab_type": "code",
        "outputId": "ba6b5cc6-24f1-4c55-d0d1-1781757c009e",
        "colab": {
          "base_uri": "https://localhost:8080/",
          "height": 34
        }
      },
      "source": [
        "y = 30\n",
        "x = 10 if (y == 30) else 20\n",
        "print(x)"
      ],
      "execution_count": 0,
      "outputs": [
        {
          "output_type": "stream",
          "text": [
            "10\n"
          ],
          "name": "stdout"
        }
      ]
    },
    {
      "cell_type": "code",
      "metadata": {
        "id": "5xZskSQYgfXp",
        "colab_type": "code",
        "outputId": "40f4295b-07db-4324-b809-0728368169f2",
        "colab": {
          "base_uri": "https://localhost:8080/",
          "height": 51
        }
      },
      "source": [
        "for y in [40, -10]:\n",
        "  x = 10 if (y == 10) else 20 if (y == -10) else 40\n",
        "  print(x)"
      ],
      "execution_count": 0,
      "outputs": [
        {
          "output_type": "stream",
          "text": [
            "40\n",
            "20\n"
          ],
          "name": "stdout"
        }
      ]
    },
    {
      "cell_type": "markdown",
      "metadata": {
        "id": "w5U-ImvouDcl",
        "colab_type": "text"
      },
      "source": [
        "# One line conditional if-else "
      ]
    },
    {
      "cell_type": "code",
      "metadata": {
        "id": "_c6ZXnr9xAXU",
        "colab_type": "code",
        "outputId": "f31d1cd3-663e-4e82-8b89-32d96d6d834b",
        "colab": {
          "base_uri": "https://localhost:8080/",
          "height": 51
        }
      },
      "source": [
        "age =int(input(\"Age :\"))\n",
        "print(\"old adults\" if age >= 60 else \"middle-aged\" if 40 <= age < 60 else \"young adult\")"
      ],
      "execution_count": 0,
      "outputs": [
        {
          "output_type": "stream",
          "text": [
            "Age :40\n",
            "middle-aged\n"
          ],
          "name": "stdout"
        }
      ]
    },
    {
      "cell_type": "markdown",
      "metadata": {
        "id": "iZgE8bt7gxbv",
        "colab_type": "text"
      },
      "source": [
        "# Chained comparison"
      ]
    },
    {
      "cell_type": "code",
      "metadata": {
        "id": "ntanQ6CNgxzy",
        "colab_type": "code",
        "outputId": "913e599f-1cfc-4ff6-adcb-9dc176d88a18",
        "colab": {
          "base_uri": "https://localhost:8080/",
          "height": 51
        }
      },
      "source": [
        "a = 4\n",
        "b = 8\n",
        "print(a < b < 10)\n",
        "print(a == b/2 < 10 > b)"
      ],
      "execution_count": 0,
      "outputs": [
        {
          "output_type": "stream",
          "text": [
            "True\n",
            "True\n"
          ],
          "name": "stdout"
        }
      ]
    },
    {
      "cell_type": "markdown",
      "metadata": {
        "id": "dFGS9lGujEFt",
        "colab_type": "text"
      },
      "source": [
        "# Chained function call"
      ]
    },
    {
      "cell_type": "code",
      "metadata": {
        "id": "zfE_BiIKjETU",
        "colab_type": "code",
        "outputId": "fa69edf5-81bf-40a3-9b61-bb811bbd8d2d",
        "colab": {
          "base_uri": "https://localhost:8080/",
          "height": 34
        }
      },
      "source": [
        "def multiply(a,b):\n",
        "  return a*b\n",
        "\n",
        "def add(a,b):\n",
        "  return a+b\n",
        "\n",
        "x = False\n",
        "print( (multiply if x else add)(3,5) ) "
      ],
      "execution_count": 0,
      "outputs": [
        {
          "output_type": "stream",
          "text": [
            "8\n"
          ],
          "name": "stdout"
        }
      ]
    },
    {
      "cell_type": "markdown",
      "metadata": {
        "id": "hXtKj25dnWjg",
        "colab_type": "text"
      },
      "source": [
        "# Slicing a list\n",
        "[start : stop : step]"
      ]
    },
    {
      "cell_type": "code",
      "metadata": {
        "id": "SvvlI5OSnYim",
        "colab_type": "code",
        "outputId": "fe8fc110-605a-4b45-a3c8-efe475902afe",
        "colab": {
          "base_uri": "https://localhost:8080/",
          "height": 34
        }
      },
      "source": [
        "num_list = [0, 1, 2, 3, 4, 5, 6, 7, 8, 9]\n",
        "steps = num_list[0::2]\n",
        "print(steps)"
      ],
      "execution_count": 0,
      "outputs": [
        {
          "output_type": "stream",
          "text": [
            "[0, 2, 4, 6, 8]\n"
          ],
          "name": "stdout"
        }
      ]
    },
    {
      "cell_type": "markdown",
      "metadata": {
        "id": "sVJhKcbUPgRy",
        "colab_type": "text"
      },
      "source": [
        "# unpacking list"
      ]
    },
    {
      "cell_type": "code",
      "metadata": {
        "id": "VFbH-6hcPl7h",
        "colab_type": "code",
        "outputId": "9295af30-ae2e-4cc3-da67-b8d11dbf15b2",
        "colab": {
          "base_uri": "https://localhost:8080/",
          "height": 51
        }
      },
      "source": [
        "num_list = [1, 2, 3, 4, 5, 6, 7, 8, 9]\n",
        "a, b, c, d = num_list[4:8]\n",
        "print(f'a = {a}, b = {b}, c = {c}, d = {d}')\n",
        "\n",
        "a, *b, c, d = num_list\n",
        "print(f'a = {a}, b = {b}, c = {c}, d = {d}')"
      ],
      "execution_count": 0,
      "outputs": [
        {
          "output_type": "stream",
          "text": [
            "a = 5, b = 6, c = 7, d = 8\n",
            "a = 1, b = [2, 3, 4, 5, 6, 7], c = 8, d = 9\n"
          ],
          "name": "stdout"
        }
      ]
    },
    {
      "cell_type": "markdown",
      "metadata": {
        "colab_type": "text",
        "id": "c493MiR1hpyD"
      },
      "source": [
        "# unpacking list"
      ]
    },
    {
      "cell_type": "code",
      "metadata": {
        "id": "K5FNJCfK3-gC",
        "colab_type": "code",
        "outputId": "fe4f133b-fe64-4759-bb2e-c78083f24ef9",
        "colab": {
          "base_uri": "https://localhost:8080/",
          "height": 51
        }
      },
      "source": [
        "my_list = [\"Resul\", \"is\", \"a\", \"python\", \"developer\"]\n",
        "print(' '.join(str(x) for x in my_list))\n",
        "\n",
        "print(*my_list, sep=' ') # unpackin the list with *"
      ],
      "execution_count": 0,
      "outputs": [
        {
          "output_type": "stream",
          "text": [
            "Resul is a python developer\n",
            "Resul is a python developer\n"
          ],
          "name": "stdout"
        }
      ]
    },
    {
      "cell_type": "markdown",
      "metadata": {
        "id": "4IR4BiVGMJAO",
        "colab_type": "text"
      },
      "source": [
        "# Using \\*args & \\**kwargs arguments"
      ]
    },
    {
      "cell_type": "code",
      "metadata": {
        "id": "9Tn744VvMVCO",
        "colab_type": "code",
        "outputId": "41731150-bf2b-4de4-df19-f4cac0aac203",
        "colab": {
          "base_uri": "https://localhost:8080/",
          "height": 34
        }
      },
      "source": [
        "db_tuples = (1,3,5,7,9)\n",
        "\n",
        "def add_nums(*nums): # Note that *args is just a name.\n",
        "  sum = 0   \n",
        "  for n in nums:\n",
        "    sum = sum + n\n",
        "  print(\"Sum:\",sum , end=\" | \")\n",
        "\n",
        "add_nums(1,2,3)\n",
        "add_nums(4,5,6,7,8)\n",
        "add_nums(*db_tuples)"
      ],
      "execution_count": 0,
      "outputs": [
        {
          "output_type": "stream",
          "text": [
            "Sum: 6 | Sum: 30 | Sum: 25 | "
          ],
          "name": "stdout"
        }
      ]
    },
    {
      "cell_type": "markdown",
      "metadata": {
        "colab_type": "text",
        "id": "oMie6MJHNeju"
      },
      "source": [
        "# Using \\*args & \\**kwargs arguments "
      ]
    },
    {
      "cell_type": "code",
      "metadata": {
        "colab_type": "code",
        "outputId": "4e599355-a1be-4eeb-e803-9e86d01dee21",
        "id": "Rxmu7-b_Nejz",
        "colab": {
          "base_uri": "https://localhost:8080/",
          "height": 51
        }
      },
      "source": [
        "db_dict = {\"name\":\"Kaan\", \"age\":14, \"job\":\"student\" }\n",
        "\n",
        "def my_func(**kwargs): # Note that **kwargs is just a name\n",
        "  for key, value in kwargs.items(): \n",
        "    print (\"%s--> %s\" %(key, value), end=\", \")\n",
        "  print()\n",
        "\n",
        "my_func(name ='Hakan',  age= 18, job='doctor')\n",
        "my_func(**db_dict) "
      ],
      "execution_count": 0,
      "outputs": [
        {
          "output_type": "stream",
          "text": [
            "name--> Hakan, age--> 18, job--> doctor, \n",
            "name--> Kaan, age--> 14, job--> student, \n"
          ],
          "name": "stdout"
        }
      ]
    },
    {
      "cell_type": "markdown",
      "metadata": {
        "id": "inC5CHPAX-Z_",
        "colab_type": "text"
      },
      "source": [
        "# Copying List"
      ]
    },
    {
      "cell_type": "code",
      "metadata": {
        "colab_type": "code",
        "outputId": "1dd73b30-88db-4669-f771-9d3a3d4c3bac",
        "id": "DU5HP_facSE8",
        "colab": {
          "base_uri": "https://localhost:8080/",
          "height": 85
        }
      },
      "source": [
        "# Fast way of copying -- shallow copy\n",
        "list_1 = [1,2,3,4]\n",
        "new_list = list_1 # new_list = list_1.copy() also smilar.\n",
        "\n",
        "print(new_list)\n",
        "print(new_list == list_1)\n",
        "print(new_list is list_1)\n",
        "print(id(new_list), \"=\", id(list_1))"
      ],
      "execution_count": 0,
      "outputs": [
        {
          "output_type": "stream",
          "text": [
            "[1, 2, 3, 4]\n",
            "True\n",
            "True\n",
            "140138799980360 = 140138799980360\n"
          ],
          "name": "stdout"
        }
      ]
    },
    {
      "cell_type": "markdown",
      "metadata": {
        "id": "4ynoy8ppfM7O",
        "colab_type": "text"
      },
      "source": [
        "# Copying List"
      ]
    },
    {
      "cell_type": "code",
      "metadata": {
        "id": "nWTVf3WEYFwO",
        "colab_type": "code",
        "outputId": "17db4055-7496-4c73-e322-542a6605462d",
        "colab": {
          "base_uri": "https://localhost:8080/",
          "height": 85
        }
      },
      "source": [
        "# using list() or slicing.\n",
        "list_1 = [1,2,3,4]\n",
        "new_list = list_1[:] # new_list = list(list_1) also smilar.\n",
        "\n",
        "print(new_list)\n",
        "print(new_list == list_1)\n",
        "print(new_list is list_1)\n",
        "print(id(new_list), \"!=\", id(list_1))"
      ],
      "execution_count": 0,
      "outputs": [
        {
          "output_type": "stream",
          "text": [
            "[1, 2, 3, 4]\n",
            "True\n",
            "False\n",
            "140138789686856 != 140138791173000\n"
          ],
          "name": "stdout"
        }
      ]
    },
    {
      "cell_type": "markdown",
      "metadata": {
        "id": "6SIXUYaQffmF",
        "colab_type": "text"
      },
      "source": [
        "# Copying List"
      ]
    },
    {
      "cell_type": "code",
      "metadata": {
        "colab_type": "code",
        "outputId": "bb8b44bf-b361-4dd2-9718-d404e3ccc52e",
        "id": "EkOmdstIbQXD",
        "colab": {
          "base_uri": "https://localhost:8080/",
          "height": 85
        }
      },
      "source": [
        "# using deepcopy() to copy nested list.\n",
        "from copy import deepcopy\n",
        "\n",
        "list_1 = [[1,2],[3,4],[5,[6,7],8]]\n",
        "new_list = deepcopy(list_1)\n",
        "\n",
        "print(new_list)\n",
        "print(new_list == list_1)\n",
        "print(new_list is list_1)\n",
        "print(id(new_list), \"!=\", id(list_1))"
      ],
      "execution_count": 0,
      "outputs": [
        {
          "output_type": "stream",
          "text": [
            "[[1, 2], [3, 4], [5, [6, 7], 8]]\n",
            "True\n",
            "False\n",
            "140138789346440 != 140138799978504\n"
          ],
          "name": "stdout"
        }
      ]
    },
    {
      "cell_type": "markdown",
      "metadata": {
        "id": "wqsCKS-Th3YO",
        "colab_type": "text"
      },
      "source": [
        "# List of list flattening"
      ]
    },
    {
      "cell_type": "code",
      "metadata": {
        "id": "KqrbkU3Xh3h0",
        "colab_type": "code",
        "outputId": "9de58ffb-7a8d-4af7-bc57-c1a7f8944ef6",
        "colab": {
          "base_uri": "https://localhost:8080/",
          "height": 34
        }
      },
      "source": [
        "my_list = [[1, 2, 3], [4, 5], [6], [7, 8, 9]]\n",
        "sum(my_list, [])"
      ],
      "execution_count": 0,
      "outputs": [
        {
          "output_type": "execute_result",
          "data": {
            "text/plain": [
              "[1, 2, 3, 4, 5, 6, 7, 8, 9]"
            ]
          },
          "metadata": {
            "tags": []
          },
          "execution_count": 28
        }
      ]
    },
    {
      "cell_type": "markdown",
      "metadata": {
        "id": "ctHXE0YYhGv5",
        "colab_type": "text"
      },
      "source": [
        "# Min and max index in list"
      ]
    },
    {
      "cell_type": "code",
      "metadata": {
        "id": "THPBpIG2hK45",
        "colab_type": "code",
        "outputId": "298792eb-1b15-43c1-d619-29cc52bd3d56",
        "colab": {
          "base_uri": "https://localhost:8080/",
          "height": 51
        }
      },
      "source": [
        "my_list = [4,5,1,3,2]\n",
        "print(f'index of MIN. number in my_list is : {min(range(len(my_list)), key=my_list.__getitem__)}')\n",
        "print(f'index of MAX. number in my_list is : {max(range(len(my_list)), key=my_list.__getitem__)}')"
      ],
      "execution_count": 0,
      "outputs": [
        {
          "output_type": "stream",
          "text": [
            "index of MIN. number in my_list is : 2\n",
            "index of MAX. number in my_list is : 1\n"
          ],
          "name": "stdout"
        }
      ]
    },
    {
      "cell_type": "markdown",
      "metadata": {
        "id": "EDJHAHHJQYY-",
        "colab_type": "text"
      },
      "source": [
        "# Using List Comprehensions\n",
        "[ expression for item in list if conditional ]"
      ]
    },
    {
      "cell_type": "code",
      "metadata": {
        "id": "T_5UjfpUj37O",
        "colab_type": "code",
        "outputId": "585f4865-0374-490c-f96b-ed64203192c3",
        "colab": {
          "base_uri": "https://localhost:8080/",
          "height": 34
        }
      },
      "source": [
        "# Old way of doing list\n",
        "def square(a): \n",
        "  return a**2\n",
        "  \n",
        "my_list = [1, 2, 3, 4, 5, 6, 7, 8]\n",
        "new_list = []\n",
        "for x in my_list:\n",
        "  if x % 2 != 0:\n",
        "    new_list.append(square(x))\n",
        "print(new_list)"
      ],
      "execution_count": 0,
      "outputs": [
        {
          "output_type": "stream",
          "text": [
            "[1, 9, 25, 49]\n"
          ],
          "name": "stdout"
        }
      ]
    },
    {
      "cell_type": "markdown",
      "metadata": {
        "colab_type": "text",
        "id": "tiUz__8fr4ZH"
      },
      "source": [
        "# Using List Comprehensions\n",
        "[ expression for item in list if conditional ]"
      ]
    },
    {
      "cell_type": "code",
      "metadata": {
        "id": "laWG65mHNR7W",
        "colab_type": "code",
        "outputId": "b2c3906e-8c80-467b-ca2a-c58986528ca6",
        "colab": {
          "base_uri": "https://localhost:8080/",
          "height": 34
        }
      },
      "source": [
        "# Doing the same list with list comprehension is olny one line.\n",
        "\n",
        "mylist = [i**2 for i in range(8) if i % 2 !=0 ]\n",
        "print(mylist)"
      ],
      "execution_count": 0,
      "outputs": [
        {
          "output_type": "stream",
          "text": [
            "[1, 9, 25, 49]\n"
          ],
          "name": "stdout"
        }
      ]
    },
    {
      "cell_type": "markdown",
      "metadata": {
        "colab_type": "text",
        "id": "42Z0E-o_tCo3"
      },
      "source": [
        "# Using List Comprehensions\n",
        "[ expression for item in list if conditional ]"
      ]
    },
    {
      "cell_type": "code",
      "metadata": {
        "id": "GsJ17zn1lO0A",
        "colab_type": "code",
        "outputId": "4215a795-b840-49bd-be95-3666bce10736",
        "colab": {
          "base_uri": "https://localhost:8080/",
          "height": 34
        }
      },
      "source": [
        "another_comp_list = [i for i in range(50) if i%2==0 and i%5==0]\n",
        "print(another_comp_list)"
      ],
      "execution_count": 0,
      "outputs": [
        {
          "output_type": "stream",
          "text": [
            "[0, 10, 20, 30, 40]\n"
          ],
          "name": "stdout"
        }
      ]
    },
    {
      "cell_type": "markdown",
      "metadata": {
        "colab_type": "text",
        "id": "wzWJbawgtLqw"
      },
      "source": [
        "# Using Dict&Set Comprehensions\n",
        "{ expression for item in list if conditional }"
      ]
    },
    {
      "cell_type": "code",
      "metadata": {
        "id": "wegTPK0KeV4e",
        "colab_type": "code",
        "outputId": "76bfacc1-f237-46fb-846d-40abea2916d8",
        "colab": {
          "base_uri": "https://localhost:8080/",
          "height": 51
        }
      },
      "source": [
        "set_comph = {i**2 for i in range(5)}\n",
        "print(set_comph)\n",
        "\n",
        "dict_comph = {k: v**2 for k,v in zip('abcde',range(5))}\n",
        "print(dict_comph)"
      ],
      "execution_count": 0,
      "outputs": [
        {
          "output_type": "stream",
          "text": [
            "{0, 1, 4, 9, 16}\n",
            "{'a': 0, 'b': 1, 'c': 4, 'd': 9, 'e': 16}\n"
          ],
          "name": "stdout"
        }
      ]
    },
    {
      "cell_type": "markdown",
      "metadata": {
        "id": "CQaQgnafUIWE",
        "colab_type": "text"
      },
      "source": [
        "# Merging Dictionaries"
      ]
    },
    {
      "cell_type": "code",
      "metadata": {
        "id": "4oACOaweUQ-V",
        "colab_type": "code",
        "outputId": "4af23996-029b-4aa5-a4ea-a04a8882b1f2",
        "colab": {
          "base_uri": "https://localhost:8080/",
          "height": 34
        }
      },
      "source": [
        "x = {'a': 1, 'b': 2}\n",
        "y = {'c': 3, 'd': 4}\n",
        "z = {'e': 5, 'f': 6}\n",
        "merged = {**x, **y, **z}\n",
        "print(merged)"
      ],
      "execution_count": 0,
      "outputs": [
        {
          "output_type": "stream",
          "text": [
            "{'a': 1, 'b': 2, 'c': 3, 'd': 4, 'e': 5, 'f': 6}\n"
          ],
          "name": "stdout"
        }
      ]
    },
    {
      "cell_type": "markdown",
      "metadata": {
        "id": "HzPHhW8DZrxA",
        "colab_type": "text"
      },
      "source": [
        "# Iterating over a dictionary"
      ]
    },
    {
      "cell_type": "code",
      "metadata": {
        "id": "ycCQTThnZsGB",
        "colab_type": "code",
        "outputId": "fc46554f-29f0-41fd-95e0-473a54f0f05c",
        "colab": {
          "base_uri": "https://localhost:8080/",
          "height": 68
        }
      },
      "source": [
        "dict1 = {'one': 1, 'two': 2, 'three': 3} \n",
        "for key, value in dict1.items():\n",
        "    print('{0:>5}: {1:<2}'.format(key, value))"
      ],
      "execution_count": 0,
      "outputs": [
        {
          "output_type": "stream",
          "text": [
            "  one: 1 \n",
            "  two: 2 \n",
            "three: 3 \n"
          ],
          "name": "stdout"
        }
      ]
    },
    {
      "cell_type": "markdown",
      "metadata": {
        "id": "PyWGzro1ZqXk",
        "colab_type": "text"
      },
      "source": [
        "# Inverting dictionary"
      ]
    },
    {
      "cell_type": "code",
      "metadata": {
        "id": "9sSYH0c4ZrWN",
        "colab_type": "code",
        "outputId": "14f7a460-bc36-4b83-cad5-06feec17dac8",
        "colab": {
          "base_uri": "https://localhost:8080/",
          "height": 34
        }
      },
      "source": [
        "dict1 = {'one': 1, 'two': 2, 'tree': 3, 'four': 4}\n",
        "dict2 = { v: k  for k, v in dict1.items() }\n",
        "print(dict2)"
      ],
      "execution_count": 0,
      "outputs": [
        {
          "output_type": "stream",
          "text": [
            "{1: 'one', 2: 'two', 3: 'tree', 4: 'four'}\n"
          ],
          "name": "stdout"
        }
      ]
    },
    {
      "cell_type": "markdown",
      "metadata": {
        "id": "1Toy4En6l31c",
        "colab_type": "text"
      },
      "source": [
        "# Sorting dictionary by value"
      ]
    },
    {
      "cell_type": "code",
      "metadata": {
        "id": "e1M7YgNsl3qc",
        "colab_type": "code",
        "outputId": "bffa1ce5-8d58-4e05-f02c-e28381a1d76f",
        "colab": {
          "base_uri": "https://localhost:8080/",
          "height": 34
        }
      },
      "source": [
        "d = {\"jacket\":50, \"bag\":20, \"hat\":10, \"tshirt\":30, \"shoes\":40}\n",
        "print(sorted(d.items(), key=lambda x:x[1]))"
      ],
      "execution_count": 0,
      "outputs": [
        {
          "output_type": "stream",
          "text": [
            "[('hat', 10), ('bag', 20), ('tshirt', 30), ('shoes', 40), ('jacket', 50)]\n"
          ],
          "name": "stdout"
        }
      ]
    },
    {
      "cell_type": "markdown",
      "metadata": {
        "id": "agHBaHuPZsc_",
        "colab_type": "text"
      },
      "source": [
        "# Most frequent element in a list or string."
      ]
    },
    {
      "cell_type": "code",
      "metadata": {
        "id": "jtg-tEdAZs1q",
        "colab_type": "code",
        "outputId": "c4788c17-d14a-408e-c02b-878b0e637cea",
        "colab": {
          "base_uri": "https://localhost:8080/",
          "height": 68
        }
      },
      "source": [
        "numbers = [1, 2, 3, 4, 2, 2, 3, 1, 4, 4, 2, 4, 4]\n",
        "chars = \"xxxyyzzzz\"\n",
        "words = [\"book\",\"phone\",\"e-reader\",\"tablet\",\"phone\"]\n",
        "print(max(set(numbers), key = numbers.count))\n",
        "print(max(set(chars), key = chars.count))\n",
        "print(max(set(words), key = words.count))"
      ],
      "execution_count": 0,
      "outputs": [
        {
          "output_type": "stream",
          "text": [
            "4\n",
            "z\n",
            "phone\n"
          ],
          "name": "stdout"
        }
      ]
    },
    {
      "cell_type": "markdown",
      "metadata": {
        "id": "4HVXENehi6Q3",
        "colab_type": "text"
      },
      "source": [
        "# Dictionary get method"
      ]
    },
    {
      "cell_type": "code",
      "metadata": {
        "id": "9tHDolSMi9Zj",
        "colab_type": "code",
        "outputId": "a06b7bb4-0f94-40ef-8875-5cc639879c22",
        "colab": {
          "base_uri": "https://localhost:8080/",
          "height": 68
        }
      },
      "source": [
        "dict1 = dict(zip('abc','123'))\n",
        "print(dict1)\n",
        "print(dict1.get(\"c\", 4))\n",
        "print(dict1.get(\"d\", 4)) # if key is not in dict return default value.\n",
        "# print(dict1[\"d\"])   it results -> KeyError: 'd'"
      ],
      "execution_count": 0,
      "outputs": [
        {
          "output_type": "stream",
          "text": [
            "{'a': '1', 'b': '2', 'c': '3'}\n",
            "3\n",
            "4\n"
          ],
          "name": "stdout"
        }
      ]
    },
    {
      "cell_type": "markdown",
      "metadata": {
        "id": "B9ZQfO7ugyI-",
        "colab_type": "text"
      },
      "source": [
        "# Memory usage of an object."
      ]
    },
    {
      "cell_type": "code",
      "metadata": {
        "id": "mA9aNLhkgyg-",
        "colab_type": "code",
        "outputId": "47e172ec-4543-4f7c-e841-e46c9d2727a7",
        "colab": {
          "base_uri": "https://localhost:8080/",
          "height": 34
        }
      },
      "source": [
        "import sys\n",
        "obj = [i**2 for i in range(100)]\n",
        "print(sys.getsizeof(obj))"
      ],
      "execution_count": 0,
      "outputs": [
        {
          "output_type": "stream",
          "text": [
            "912\n"
          ],
          "name": "stdout"
        }
      ]
    },
    {
      "cell_type": "markdown",
      "metadata": {
        "id": "giFLaq09gy8Y",
        "colab_type": "text"
      },
      "source": [
        "# Path of imported modules"
      ]
    },
    {
      "cell_type": "code",
      "metadata": {
        "id": "ToH5A7HSgzUJ",
        "colab_type": "code",
        "outputId": "b6423f55-b992-407e-bb17-c6810c2326d0",
        "colab": {
          "base_uri": "https://localhost:8080/",
          "height": 51
        }
      },
      "source": [
        "import os, socket\n",
        "print(os)\n",
        "print(socket)"
      ],
      "execution_count": 0,
      "outputs": [
        {
          "output_type": "stream",
          "text": [
            "<module 'os' from '/usr/lib/python3.6/os.py'>\n",
            "<module 'socket' from '/usr/lib/python3.6/socket.py'>\n"
          ],
          "name": "stdout"
        }
      ]
    },
    {
      "cell_type": "markdown",
      "metadata": {
        "id": "sUVKG6dzU58Z",
        "colab_type": "text"
      },
      "source": [
        "# getpass module"
      ]
    },
    {
      "cell_type": "code",
      "metadata": {
        "id": "0JBTfLhDUQVy",
        "colab_type": "code",
        "outputId": "c7293605-d399-4bd8-86e9-380bef02f956",
        "colab": {
          "base_uri": "https://localhost:8080/",
          "height": 51
        }
      },
      "source": [
        "import getpass\n",
        "\n",
        "users_name_pswd = {\"root\":\"adminpassword\"}\n",
        "\n",
        "user = getpass.getuser()\n",
        "password = getpass.getpass() # hides input passwords\n",
        "\n",
        "if users_name_pswd[user] ==  password:\n",
        "  print(\"You are logged in.\")\n",
        "else:\n",
        "  print(\"Access Denied\")"
      ],
      "execution_count": 0,
      "outputs": [
        {
          "output_type": "stream",
          "text": [
            "··········\n",
            "You are logged in.\n"
          ],
          "name": "stdout"
        }
      ]
    },
    {
      "cell_type": "markdown",
      "metadata": {
        "id": "kRpKPABI9W3j",
        "colab_type": "text"
      },
      "source": [
        "# Using enumerate to get index/value pairs"
      ]
    },
    {
      "cell_type": "code",
      "metadata": {
        "id": "W3OiwaDz9a-M",
        "colab_type": "code",
        "outputId": "8c493973-5a45-4863-9c79-95b44ce6d2d7",
        "colab": {
          "base_uri": "https://localhost:8080/",
          "height": 102
        }
      },
      "source": [
        "my_list = ['item1', 'item2', 'item3', 'item4', 'item5']\n",
        "\n",
        "for index, value in enumerate(my_list):\n",
        "  print('{0}: {1}'.format(index+1, value))\n"
      ],
      "execution_count": 0,
      "outputs": [
        {
          "output_type": "stream",
          "text": [
            "1: item1\n",
            "2: item2\n",
            "3: item3\n",
            "4: item4\n",
            "5: item5\n"
          ],
          "name": "stdout"
        }
      ]
    },
    {
      "cell_type": "markdown",
      "metadata": {
        "id": "qAZ5q7PNlIqM",
        "colab_type": "text"
      },
      "source": [
        "# Zip(*iterables) Function"
      ]
    },
    {
      "cell_type": "code",
      "metadata": {
        "id": "iknlimkz2EEI",
        "colab_type": "code",
        "outputId": "c2e93ae2-9fe2-4363-f9d0-be2a99e08803",
        "colab": {
          "base_uri": "https://localhost:8080/",
          "height": 34
        }
      },
      "source": [
        "first_names = [\"Hakan\", \"Kaan\", \"Asiye\"]\n",
        ">>> last_names = [\"Caliskan\", \"Aslan\", \"Yıldız\"]\n",
        ">>> print([' '.join(x) for x in zip(first_names, last_names)])"
      ],
      "execution_count": 0,
      "outputs": [
        {
          "output_type": "stream",
          "text": [
            "['Hakan Caliskan', 'Kaan Aslan', 'Asiye Yıldız']\n"
          ],
          "name": "stdout"
        }
      ]
    },
    {
      "cell_type": "markdown",
      "metadata": {
        "id": "N0gh8q6LGp6x",
        "colab_type": "text"
      },
      "source": [
        "# Zip(*iterables) Function"
      ]
    },
    {
      "cell_type": "code",
      "metadata": {
        "id": "j4_jP1lqGtK4",
        "colab_type": "code",
        "outputId": "07123191-61c8-447c-ae4d-679ad8d93d7d",
        "colab": {
          "base_uri": "https://localhost:8080/",
          "height": 102
        }
      },
      "source": [
        "id_list = [1, 2, 3, 4]\n",
        "name_list = ['Hakan', 'Kaan', 'Asiye', 'Resul']\n",
        "job_list = ['Doctor', 'Lawyer', 'Teacher', 'Engineer']\n",
        "\n",
        "print(list(zip(id_list, name_list, job_list)))\n",
        "\n",
        "for id, name, job in zip(id_list, name_list, job_list):\n",
        "    print(f'{id}. {name} is a {job}.')\n"
      ],
      "execution_count": 0,
      "outputs": [
        {
          "output_type": "stream",
          "text": [
            "[(1, 'Hakan', 'Doctor'), (2, 'Kaan', 'Lawyer'), (3, 'Asiye', 'Teacher'), (4, 'Resul', 'Engineer')]\n",
            "1. Hakan is a Doctor.\n",
            "2. Kaan is a Lawyer.\n",
            "3. Asiye is a Teacher.\n",
            "4. Resul is a Engineer.\n"
          ],
          "name": "stdout"
        }
      ]
    },
    {
      "cell_type": "markdown",
      "metadata": {
        "id": "GRqCqkzngzqF",
        "colab_type": "text"
      },
      "source": [
        "# Recursive function"
      ]
    },
    {
      "cell_type": "code",
      "metadata": {
        "id": "gSkjM4uGgz-V",
        "colab_type": "code",
        "outputId": "8c62a15f-4f97-4cb0-bfe3-76d2fa962b13",
        "colab": {
          "base_uri": "https://localhost:8080/",
          "height": 34
        }
      },
      "source": [
        "def recursive_func(n):\n",
        "  # Base case: 1! = 1\n",
        "  if n == 1: \n",
        "    return 1\n",
        "\n",
        "  # Recursive case: n! = n * (n-1)!\n",
        "  else:\n",
        "    return n * recursive_func(n-1)\n",
        "\n",
        "print(recursive_func(9))"
      ],
      "execution_count": 0,
      "outputs": [
        {
          "output_type": "stream",
          "text": [
            "362880\n"
          ],
          "name": "stdout"
        }
      ]
    },
    {
      "cell_type": "markdown",
      "metadata": {
        "id": "-cIn8S7I-ZTH",
        "colab_type": "text"
      },
      "source": [
        "# Calculate the execution time"
      ]
    },
    {
      "cell_type": "code",
      "metadata": {
        "id": "Z1wXBj16-kSq",
        "colab_type": "code",
        "outputId": "ba5eeb71-08d0-41bb-bd30-5ce101082f5b",
        "colab": {
          "base_uri": "https://localhost:8080/",
          "height": 34
        }
      },
      "source": [
        "import time\n",
        "# using time() method\n",
        "start_time = time.time()\n",
        "some_of_list = sum([num for num in range(1_000_000)])\n",
        "end_time = time.time()\n",
        "\n",
        "time_diff = (end_time - start_time)\n",
        "\n",
        "print(\"Total process time: {0:.4} ms\".format(time_diff))"
      ],
      "execution_count": 0,
      "outputs": [
        {
          "output_type": "stream",
          "text": [
            "Total process time: 0.1248 ms\n"
          ],
          "name": "stdout"
        }
      ]
    },
    {
      "cell_type": "markdown",
      "metadata": {
        "id": "0V5_GRrApxdI",
        "colab_type": "text"
      },
      "source": [
        "# Calculate the execution time"
      ]
    },
    {
      "cell_type": "code",
      "metadata": {
        "id": "6k62_vPFZnOG",
        "colab_type": "code",
        "outputId": "2dd39392-d654-4443-ac94-1d74b867ef73",
        "colab": {
          "base_uri": "https://localhost:8080/",
          "height": 34
        }
      },
      "source": [
        "import time\n",
        "# using clock() method\n",
        "start = time.clock()\n",
        "sum((i * i for i in range(1, 1_000_000)))\n",
        "stop = time.clock()\n",
        "time_diff = stop - start\n",
        "print(f\"It took {time_diff:.4} Secs to execute this method\")"
      ],
      "execution_count": 0,
      "outputs": [
        {
          "output_type": "stream",
          "text": [
            "It took 0.08644 Secs to execute this method\n"
          ],
          "name": "stdout"
        }
      ]
    },
    {
      "cell_type": "markdown",
      "metadata": {
        "id": "nyTUUUKyz6Dl",
        "colab_type": "text"
      },
      "source": [
        "# Files, directories of the current working directory."
      ]
    },
    {
      "cell_type": "code",
      "metadata": {
        "id": "trPgG4S1z6aw",
        "colab_type": "code",
        "outputId": "2713788e-157b-4f5e-f195-4e7278fbe3a5",
        "colab": {
          "base_uri": "https://localhost:8080/",
          "height": 136
        }
      },
      "source": [
        "import os\n",
        "cwd = os.getcwd()\n",
        "for dir_path, dir_names, file_names in os.walk(cwd):\n",
        "    for f in file_names[:2]: # only two of files in every directory\n",
        "        print(f)"
      ],
      "execution_count": 0,
      "outputs": [
        {
          "output_type": "stream",
          "text": [
            ".last_update_check.json\n",
            ".last_survey_prompt.yaml\n",
            "18.36.45.012839.log\n",
            "18.36.32.968039.log\n",
            "config_default\n",
            "README.md\n",
            "anscombe.json\n"
          ],
          "name": "stdout"
        }
      ]
    },
    {
      "cell_type": "markdown",
      "metadata": {
        "id": "B10NRve_xeew",
        "colab_type": "text"
      },
      "source": [
        "# Apply a function to every item in an iterable\n",
        "map(function, iterable)"
      ]
    },
    {
      "cell_type": "code",
      "metadata": {
        "id": "auVVoPy5xePx",
        "colab_type": "code",
        "outputId": "1d2482e7-8027-41fc-c1d1-3836fd0700ed",
        "colab": {
          "base_uri": "https://localhost:8080/",
          "height": 34
        }
      },
      "source": [
        "num_list = [1, 2, 3, 4, 5]\n",
        "\n",
        "def square(num):\n",
        "  return num*num\n",
        "\n",
        "print(list(map(square, num_list)))"
      ],
      "execution_count": 0,
      "outputs": [
        {
          "output_type": "stream",
          "text": [
            "[1, 4, 9, 16, 25]\n"
          ],
          "name": "stdout"
        }
      ]
    },
    {
      "cell_type": "markdown",
      "metadata": {
        "id": "wS1MYYVF_FjO",
        "colab_type": "text"
      },
      "source": [
        "# Lambda expressions-One line function."
      ]
    },
    {
      "cell_type": "code",
      "metadata": {
        "id": "hUEuo58a_DpZ",
        "colab_type": "code",
        "outputId": "bedab7f5-2bf5-4254-f13b-f41575a96d53",
        "colab": {
          "base_uri": "https://localhost:8080/",
          "height": 51
        }
      },
      "source": [
        "square = lambda num: num * num\n",
        "print(square(5))\n",
        "\n",
        "x = [1, 2, 3, 4, 5]\n",
        "print(list(map(lambda num: num * num, x)))"
      ],
      "execution_count": 0,
      "outputs": [
        {
          "output_type": "stream",
          "text": [
            "25\n",
            "[1, 4, 9, 16, 25]\n"
          ],
          "name": "stdout"
        }
      ]
    },
    {
      "cell_type": "markdown",
      "metadata": {
        "id": "a0NzqvS1tCDC",
        "colab_type": "text"
      },
      "source": [
        "# Sorting with lambda function"
      ]
    },
    {
      "cell_type": "code",
      "metadata": {
        "id": "MdS0IhhtsU--",
        "colab_type": "code",
        "outputId": "ccd21a0b-f992-4274-fe23-8f6433737f03",
        "colab": {
          "base_uri": "https://localhost:8080/",
          "height": 34
        }
      },
      "source": [
        "my_list = [10, -20, 30, 40, -5]\n",
        "\n",
        "print(sorted(my_list, key = lambda x : abs(x)))"
      ],
      "execution_count": 0,
      "outputs": [
        {
          "output_type": "stream",
          "text": [
            "[-5, 10, -20, 30, 40]\n"
          ],
          "name": "stdout"
        }
      ]
    },
    {
      "cell_type": "markdown",
      "metadata": {
        "id": "IU_ZtQQIAwF2",
        "colab_type": "text"
      },
      "source": [
        "# Reduce function \n",
        "reduce(function, list)"
      ]
    },
    {
      "cell_type": "code",
      "metadata": {
        "id": "snSNuBhAAwR2",
        "colab_type": "code",
        "outputId": "2750c68a-764b-4a03-a5ff-e010614c7dac",
        "colab": {
          "base_uri": "https://localhost:8080/",
          "height": 34
        }
      },
      "source": [
        "from functools import reduce\n",
        "\n",
        "product = reduce((lambda x, y: x * y),[1, 2, 3, 4])\n",
        "# smilar sum([1,4,9,16])\n",
        "\n",
        "print(product)"
      ],
      "execution_count": 0,
      "outputs": [
        {
          "output_type": "stream",
          "text": [
            "24\n"
          ],
          "name": "stdout"
        }
      ]
    },
    {
      "cell_type": "markdown",
      "metadata": {
        "id": "Mfw90jy6Bjah",
        "colab_type": "text"
      },
      "source": [
        "# Filter function \n",
        "filter(function, list)"
      ]
    },
    {
      "cell_type": "code",
      "metadata": {
        "id": "6C1_hazjBsLX",
        "colab_type": "code",
        "outputId": "f66f3b23-f90a-4bd0-c40d-8144c6abecb8",
        "colab": {
          "base_uri": "https://localhost:8080/",
          "height": 34
        }
      },
      "source": [
        "list_nums = list(range(100))\n",
        "\n",
        "all_full_division_by_5 = list(filter(lambda num:num % 5 == 0, list_nums))\n",
        "\n",
        "print(all_full_division_by_5)"
      ],
      "execution_count": 0,
      "outputs": [
        {
          "output_type": "stream",
          "text": [
            "[0, 5, 10, 15, 20, 25, 30, 35, 40, 45, 50, 55, 60, 65, 70, 75, 80, 85, 90, 95]\n"
          ],
          "name": "stdout"
        }
      ]
    },
    {
      "cell_type": "markdown",
      "metadata": {
        "id": "KquBqmAlBXOP",
        "colab_type": "text"
      },
      "source": [
        "# Open two files"
      ]
    },
    {
      "cell_type": "code",
      "metadata": {
        "id": "a90IO3WkBY5Y",
        "colab_type": "code",
        "outputId": "eabea603-9c7c-4b9a-e82e-f31592460c77",
        "colab": {
          "base_uri": "https://localhost:8080/",
          "height": 51
        }
      },
      "source": [
        "with open(\"first.txt\") as my_file, open(\"second.txt\") as second_file:\n",
        "  for line_number, (line1, line2) in enumerate(zip(my_file, second_file)):\n",
        "    print(line_number, (line1, line2))"
      ],
      "execution_count": 0,
      "outputs": [
        {
          "output_type": "stream",
          "text": [
            "0 (' Sentence in first file.\\n', ' Sentence in second file.\\n')\n",
            "1 (' Sentence in first file.\\n', ' Sentence in second file.\\n')\n"
          ],
          "name": "stdout"
        }
      ]
    },
    {
      "cell_type": "markdown",
      "metadata": {
        "id": "YKBTHs-8I9ba",
        "colab_type": "text"
      },
      "source": [
        "# To query a request service"
      ]
    },
    {
      "cell_type": "code",
      "metadata": {
        "id": "L_S59sUiJEW3",
        "colab_type": "code",
        "outputId": "21564ebe-4890-4b6a-96d6-193aa99fe660",
        "colab": {
          "base_uri": "https://localhost:8080/",
          "height": 85
        }
      },
      "source": [
        "import requests\n",
        "url = 'http://www.example.com/'\n",
        "response = requests.get(url).text\n",
        "print(response[:55])"
      ],
      "execution_count": 0,
      "outputs": [
        {
          "output_type": "stream",
          "text": [
            "<!doctype html>\n",
            "<html>\n",
            "<head>\n",
            "    <title>Example Domain\n"
          ],
          "name": "stdout"
        }
      ]
    },
    {
      "cell_type": "markdown",
      "metadata": {
        "id": "Vl2ESXWVHeef",
        "colab_type": "text"
      },
      "source": [
        "# Higher order functions\n",
        "take a **function as an argument, or  return a function**"
      ]
    },
    {
      "cell_type": "code",
      "metadata": {
        "id": "t7pnOJ6IHf_L",
        "colab_type": "code",
        "outputId": "e1b968af-9acb-479b-ac8e-d0cbe7b6df2f",
        "colab": {
          "base_uri": "https://localhost:8080/",
          "height": 51
        }
      },
      "source": [
        "def sum_of_nums(nums):\n",
        "  return sum(nums)\n",
        "\n",
        "def power_of_nums(nums):\n",
        "  return [i**2 for i in nums]\n",
        "\n",
        "def high_order_func(func, num_list):\n",
        "  return func(num_list)\n",
        "\n",
        "print(high_order_func(sum_of_nums, [1, 2, 3, 4]))\n",
        "print(high_order_func(power_of_nums, [1, 2, 3, 4]))"
      ],
      "execution_count": 0,
      "outputs": [
        {
          "output_type": "stream",
          "text": [
            "10\n",
            "[1, 4, 9, 16]\n"
          ],
          "name": "stdout"
        }
      ]
    },
    {
      "cell_type": "markdown",
      "metadata": {
        "id": "qP76bOl-Le8m",
        "colab_type": "text"
      },
      "source": [
        "# Generator (on the fly iteration)"
      ]
    },
    {
      "cell_type": "code",
      "metadata": {
        "id": "zRp9_IE-LgTW",
        "colab_type": "code",
        "outputId": "9fe4461c-567c-4a6b-967a-afb2728b171a",
        "colab": {
          "base_uri": "https://localhost:8080/",
          "height": 85
        }
      },
      "source": [
        "def num_generator(num):\n",
        "  \"\"\" an infinite sequence generator that generates integers >= n\"\"\"\n",
        "  while True:\n",
        "    yield num\n",
        "    num += 1\n",
        "        \n",
        "plus_one = num_generator(4)     # starts at 4\n",
        "for _ in range(4):\n",
        "  print(next(plus_one))"
      ],
      "execution_count": 0,
      "outputs": [
        {
          "output_type": "stream",
          "text": [
            "4\n",
            "5\n",
            "6\n",
            "7\n"
          ],
          "name": "stdout"
        }
      ]
    },
    {
      "cell_type": "markdown",
      "metadata": {
        "id": "9RtaLXs6EHH_",
        "colab_type": "text"
      },
      "source": [
        "# Using coroutine and decorators"
      ]
    },
    {
      "cell_type": "code",
      "metadata": {
        "id": "Usr2Vu91EHTS",
        "colab_type": "code",
        "outputId": "ecdc2832-018f-41ca-eac9-636aa7aaa169",
        "colab": {
          "base_uri": "https://localhost:8080/",
          "height": 85
        }
      },
      "source": [
        "#@title Power function. { vertical-output: true }\n",
        "import math\n",
        "\"\"\" This program has two function first one is couroutine \n",
        "    and the latter is decorator. \n",
        "    It produces the power of given number \"\"\"\n",
        "def coroutine(gen_fn):\n",
        "    def inner(*args, **kwargs):\n",
        "        gen = gen_fn(*args, **kwargs)\n",
        "        next(gen)\n",
        "        return gen\n",
        "    return inner\n",
        "\n",
        "@coroutine\n",
        "def power(p):\n",
        "    result = None\n",
        "    while True:\n",
        "        received = yield result\n",
        "        result = math.pow(received, p)\n",
        "\n",
        "squares = power(2); cubes = power(3); quadro = power(4); quintic = power(5)\n",
        "for power in [squares,cubes,quadro,quintic]: print(power.send(4))"
      ],
      "execution_count": 0,
      "outputs": [
        {
          "output_type": "stream",
          "text": [
            "16.0\n",
            "64.0\n",
            "256.0\n",
            "1024.0\n"
          ],
          "name": "stdout"
        }
      ]
    },
    {
      "cell_type": "markdown",
      "metadata": {
        "id": "Kn5YDb6I6Or1",
        "colab_type": "text"
      },
      "source": [
        "# Error handling \"try-except-else-finally\" blocks"
      ]
    },
    {
      "cell_type": "code",
      "metadata": {
        "id": "p7rIBDIi6W7Q",
        "colab_type": "code",
        "outputId": "516382af-1f79-4a6d-d82d-15d58bd5edbf",
        "colab": {
          "base_uri": "https://localhost:8080/",
          "height": 68
        }
      },
      "source": [
        "num1, num2 = 10, 2\n",
        "\n",
        "try:\n",
        "  print(f'result:{num1/num2}')\n",
        "except ZeroDivisionError: # exception raised when num2 is 0\n",
        "  print(\"division by zero\")\n",
        "else:\n",
        "  print(\"no exceptions raised\")\n",
        "finally:\n",
        "  print(\"this always run\")"
      ],
      "execution_count": 0,
      "outputs": [
        {
          "output_type": "stream",
          "text": [
            "result:5.0\n",
            "no exceptions raised\n",
            "this always run\n"
          ],
          "name": "stdout"
        }
      ]
    },
    {
      "cell_type": "markdown",
      "metadata": {
        "id": "opBkzjzCGGLQ",
        "colab_type": "text"
      },
      "source": [
        "# Error handling \"try-except-else-finally\" blocks"
      ]
    },
    {
      "cell_type": "code",
      "metadata": {
        "id": "EVnku7X6BsIu",
        "colab_type": "code",
        "outputId": "3a91bf3b-fb43-431e-e042-d1836faa2262",
        "colab": {
          "base_uri": "https://localhost:8080/",
          "height": 34
        }
      },
      "source": [
        "try:\n",
        "    file = open(\"file.txt\")\n",
        "    new_file = file.readline()\n",
        "except FileNotFoundError:       # exception raised when file.txt is absent.\n",
        "    print('File not found, and a new \"file.txt\" file is created.')\n",
        "    file = open(\"file.txt\", 'w') \n",
        "else:                           # this runs only in the absence of exceptions. \n",
        "    new_file = open(\"file.txt\") \n",
        "    data = new_file.read()\n",
        "finally:                        # this finally part always run.\n",
        "    file.close()"
      ],
      "execution_count": 0,
      "outputs": [
        {
          "output_type": "stream",
          "text": [
            "File not found, and a new \"file.txt\" file is created.\n"
          ],
          "name": "stdout"
        }
      ]
    },
    {
      "cell_type": "markdown",
      "metadata": {
        "id": "ID2ap79iX6Aq",
        "colab_type": "text"
      },
      "source": [
        "\n",
        "---\n",
        "Congratulations,\n",
        "happy pythoning..\n",
        "\n",
        "\n",
        "---\n",
        "\n",
        "\n",
        "Resul ÇALIŞKAN - Data Scientist\n",
        "\n",
        "\n",
        "---\n",
        "\n",
        "\n"
      ]
    }
  ]
}